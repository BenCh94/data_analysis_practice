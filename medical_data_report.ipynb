{
 "cells": [
  {
   "cell_type": "code",
   "execution_count": 3,
   "metadata": {
    "collapsed": true
   },
   "outputs": [],
   "source": [
    "import pandas as pd\n",
    "import numpy as np\n",
    "import matplotlib.pyplot as plt\n",
    "%matplotlib inline\n",
    "\n",
    "med_df = pd.read_csv('full_health_medicals.csv.csv')\n",
    "med_df = med_df[med_df['age_at_medical'] > 24]"
   ]
  },
  {
   "cell_type": "markdown",
   "metadata": {},
   "source": [
    "Splitting the data into four distinct groups. "
   ]
  },
  {
   "cell_type": "code",
   "execution_count": 3,
   "metadata": {},
   "outputs": [
    {
     "name": "stdout",
     "output_type": "stream",
     "text": [
      "Mean Age:\n43.9898477157\n"
     ]
    }
   ],
   "source": [
    "print \"Mean Age:\"\n",
    "print np.mean(med_df['age_at_medical'])"
   ]
  },
  {
   "cell_type": "code",
   "execution_count": 4,
   "metadata": {},
   "outputs": [],
   "source": [
    "med_df['heart_age_diff'] = med_df['age_at_medical'] - med_df['heart_age']\n",
    "bad_heart_group = med_df[med_df['heart_age_diff'] < -5]\n",
    "good_heart_group = med_df[med_df['heart_age_diff'] > 0]\n",
    "top_20_risk = med_df.nlargest(20, 'relative_risk_score')\n",
    "bottom_20_risk = med_df.nsmallest(20, 'relative_risk_score')"
   ]
  },
  {
   "cell_type": "code",
   "execution_count": 5,
   "metadata": {},
   "outputs": [],
   "source": [
    "bad_heart_diet = bad_heart_group.loc[:, ['de_fried_food','de_stop_when_full','de_comfort_eats','de_crave_sugary_foods','fast_food_frequency','red_meat_frequency', 'fish_frequency','de_bread','de_dairy']]\n",
    "good_heart_diet = good_heart_group.loc[:, ['de_fried_food','de_stop_when_full','de_comfort_eats','de_crave_sugary_foods','fast_food_frequency','red_meat_frequency', 'fish_frequency','de_bread','de_dairy']]\n",
    "top_20_diet = top_20_risk.loc[:, ['de_fried_food','de_stop_when_full','de_comfort_eats','de_crave_sugary_foods','fast_food_frequency','red_meat_frequency', 'fish_frequency','de_bread','de_dairy']]\n",
    "bottom_20_diet = bottom_20_risk.loc[:, ['de_fried_food','de_stop_when_full','de_comfort_eats','de_crave_sugary_foods','fast_food_frequency','red_meat_frequency', 'fish_frequency','de_bread','de_dairy']]"
   ]
  },
  {
   "cell_type": "code",
   "execution_count": 6,
   "metadata": {
    "collapsed": true
   },
   "outputs": [
    {
     "name": "stdout",
     "output_type": "stream",
     "text": [
      "No     26\nYes    17\nName: de_fried_food, dtype: int64\nNo     43\nYes    13\nName: de_fried_food, dtype: int64\nNo     12\nYes     8\nName: de_fried_food, dtype: int64\nNo     13\nYes     7\nName: de_fried_food, dtype: int64\n"
     ]
    }
   ],
   "source": [
    "print bad_heart_diet['de_fried_food'].value_counts()\n",
    "print good_heart_diet['de_fried_food'].value_counts()\n",
    "print top_20_diet['de_fried_food'].value_counts()\n",
    "print bottom_20_diet['de_fried_food'].value_counts()"
   ]
  },
  {
   "cell_type": "code",
   "execution_count": 7,
   "metadata": {},
   "outputs": [
    {
     "data": {
      "text/plain": [
       "<matplotlib.legend.Legend at 0x89c9fd0>"
      ]
     },
     "execution_count": 7,
     "metadata": {},
     "output_type": "execute_result"
    },
    {
     "data": {
      "image/png": "[encoded data removed]",
      "text/plain": [
       "<matplotlib.figure.Figure at 0x8a8a850>"
      ]
     },
     "metadata": {},
     "output_type": "display_data"
    }
   ],
   "source": [
    "yes = [17, 13, 8, 7]\n",
    "no = [26, 43, 12, 13]\n",
    "width = 0.35\n",
    "fig, ax = plt.subplots()\n",
    "yes_responses = ax.bar(np.arange(4), yes, width)\n",
    "no_responses = ax.bar(np.arange(4)+width, no, width)\n",
    "ax.set_xticks(np.arange(4)+width/2)\n",
    "ax.set_xticklabels(('Bad Heart', 'Good Heart', 'High Risk 20', 'Low Risk 20'))\n",
    "ax.legend((yes_responses[0], no_responses[0]), ('Yes', 'No'))"
   ]
  },
  {
   "cell_type": "code",
   "execution_count": 8,
   "metadata": {
    "collapsed": true
   },
   "outputs": [
    {
     "name": "stdout",
     "output_type": "stream",
     "text": [
      "No     33\nYes    10\nName: de_crave_sugary_foods, dtype: int64\nNo     28\nYes    28\nName: de_crave_sugary_foods, dtype: int64\nNo     16\nYes     4\nName: de_crave_sugary_foods, dtype: int64\nNo     11\nYes     9\nName: de_crave_sugary_foods, dtype: int64\n"
     ]
    }
   ],
   "source": [
    "print bad_heart_diet['de_crave_sugary_foods'].value_counts()\n",
    "print good_heart_diet['de_crave_sugary_foods'].value_counts()\n",
    "print top_20_diet['de_crave_sugary_foods'].value_counts()\n",
    "print bottom_20_diet['de_crave_sugary_foods'].value_counts()"
   ]
  },
  {
   "cell_type": "code",
   "execution_count": 9,
   "metadata": {},
   "outputs": [
    {
     "data": {
      "text/plain": [
       "<matplotlib.legend.Legend at 0x8c17fb0>"
      ]
     },
     "execution_count": 9,
     "metadata": {},
     "output_type": "execute_result"
    },
    {
     "data": {
      "image/png": "[encoded data removed]",
      "text/plain": [
       "<matplotlib.figure.Figure at 0x89c9850>"
      ]
     },
     "metadata": {},
     "output_type": "display_data"
    }
   ],
   "source": [
    "yes = [10, 28, 4, 9]\n",
    "no = [33, 28, 16, 11]\n",
    "width = 0.35\n",
    "fig, ax = plt.subplots()\n",
    "yes_responses = ax.bar(np.arange(4), yes, width)\n",
    "no_responses = ax.bar(np.arange(4)+width, no, width)\n",
    "ax.set_xticks(np.arange(4)+width/2)\n",
    "ax.set_xticklabels(('Bad Heart', 'Good Heart', 'High Risk 20', 'Low Risk 20'))\n",
    "ax.legend((yes_responses[0], no_responses[0]), ('Yes', 'No'))"
   ]
  },
  {
   "cell_type": "code",
   "execution_count": 10,
   "metadata": {
    "collapsed": true
   },
   "outputs": [
    {
     "name": "stdout",
     "output_type": "stream",
     "text": [
      "Yes    34\nNo      9\nName: de_stop_when_full, dtype: int64\nYes    50\nNo      6\nName: de_stop_when_full, dtype: int64\nYes    14\nNo      6\nName: de_stop_when_full, dtype: int64\nYes    16\nNo      4\nName: de_stop_when_full, dtype: int64\n"
     ]
    }
   ],
   "source": [
    "print bad_heart_diet['de_stop_when_full'].value_counts()\n",
    "print good_heart_diet['de_stop_when_full'].value_counts()\n",
    "print top_20_diet['de_stop_when_full'].value_counts()\n",
    "print bottom_20_diet['de_stop_when_full'].value_counts()"
   ]
  },
  {
   "cell_type": "code",
   "execution_count": 11,
   "metadata": {},
   "outputs": [
    {
     "data": {
      "text/plain": [
       "<matplotlib.legend.Legend at 0x92c7470>"
      ]
     },
     "execution_count": 11,
     "metadata": {},
     "output_type": "execute_result"
    },
    {
     "data": {
      "image/png": "[encoded data removed]",
      "text/plain": [
       "<matplotlib.figure.Figure at 0x8c17a30>"
      ]
     },
     "metadata": {},
     "output_type": "display_data"
    }
   ],
   "source": [
    "yes = [34, 50, 14, 16]\n",
    "no = [9, 6, 6, 4]\n",
    "width = 0.35\n",
    "fig, ax = plt.subplots()\n",
    "yes_responses = ax.bar(np.arange(4), yes, width)\n",
    "no_responses = ax.bar(np.arange(4)+width, no, width)\n",
    "ax.set_xticks(np.arange(4)+width/2)\n",
    "ax.set_xticklabels(('Bad Heart', 'Good Heart', 'High Risk 20', 'Low Risk 20'))\n",
    "ax.legend((yes_responses[0], no_responses[0]), ('Yes', 'No'))"
   ]
  },
  {
   "cell_type": "code",
   "execution_count": 12,
   "metadata": {
    "collapsed": true
   },
   "outputs": [
    {
     "name": "stdout",
     "output_type": "stream",
     "text": [
      "No     35\nYes     8\nName: de_comfort_eats, dtype: int64\nNo     45\nYes    11\nName: de_comfort_eats, dtype: int64\nNo     16\nYes     4\nName: de_comfort_eats, dtype: int64\nNo     17\nYes     3\nName: de_comfort_eats, dtype: int64\n"
     ]
    }
   ],
   "source": [
    "print bad_heart_diet['de_comfort_eats'].value_counts()\n",
    "print good_heart_diet['de_comfort_eats'].value_counts()\n",
    "print top_20_diet['de_comfort_eats'].value_counts()\n",
    "print bottom_20_diet['de_comfort_eats'].value_counts()"
   ]
  },
  {
   "cell_type": "code",
   "execution_count": 13,
   "metadata": {},
   "outputs": [
    {
     "data": {
      "text/plain": [
       "<matplotlib.legend.Legend at 0x9353330>"
      ]
     },
     "execution_count": 13,
     "metadata": {},
     "output_type": "execute_result"
    },
    {
     "data": {
      "image/png": "[encoded data removed]",
      "text/plain": [
       "<matplotlib.figure.Figure at 0x92be070>"
      ]
     },
     "metadata": {},
     "output_type": "display_data"
    }
   ],
   "source": [
    "yes = [8, 11, 4, 3]\n",
    "no = [35, 45, 16, 17]\n",
    "width = 0.35\n",
    "fig, ax = plt.subplots()\n",
    "yes_responses = ax.bar(np.arange(4), yes, width)\n",
    "no_responses = ax.bar(np.arange(4)+width, no, width)\n",
    "ax.set_xticks(np.arange(4)+width/2)\n",
    "ax.set_xticklabels(('Bad Heart', 'Good Heart', 'High Risk 20', 'Low Risk 20'))\n",
    "ax.legend((yes_responses[0], no_responses[0]), ('Yes', 'No'))"
   ]
  },
  {
   "cell_type": "code",
   "execution_count": 16,
   "metadata": {
    "collapsed": true
   },
   "outputs": [
    {
     "name": "stdout",
     "output_type": "stream",
     "text": [
      "Brown bread        19\nMainly white       18\nDon't eat bread     6\nName: de_bread, dtype: int64\nBrown bread        33\nMainly white       16\nDon't eat bread     6\nName: de_bread, dtype: int64\nMainly white       10\nBrown bread         7\nDon't eat bread     3\nName: de_bread, dtype: int64\nBrown bread        11\nMainly white        5\nDon't eat bread     3\nName: de_bread, dtype: int64\n"
     ]
    }
   ],
   "source": [
    "print bad_heart_diet['de_bread'].value_counts()\n",
    "print good_heart_diet['de_bread'].value_counts()\n",
    "print top_20_diet['de_bread'].value_counts()\n",
    "print bottom_20_diet['de_bread'].value_counts()"
   ]
  },
  {
   "cell_type": "code",
   "execution_count": 21,
   "metadata": {},
   "outputs": [
    {
     "data": {
      "text/plain": [
       "<matplotlib.legend.Legend at 0x9838490>"
      ]
     },
     "execution_count": 21,
     "metadata": {},
     "output_type": "execute_result"
    },
    {
     "data": {
      "image/png": "[encoded data removed]",
      "text/plain": [
       "<matplotlib.figure.Figure at 0x936a650>"
      ]
     },
     "metadata": {},
     "output_type": "display_data"
    }
   ],
   "source": [
    "none = [6, 6, 3, 3]\n",
    "white = [18, 16, 10, 5]\n",
    "brown = [19, 33, 7, 11]\n",
    "width = 0.30\n",
    "fig, ax = plt.subplots()\n",
    "no_bread = ax.bar(np.arange(4), none, width)\n",
    "white_bread = ax.bar(np.arange(4)+width, white, width)\n",
    "brown_bread = ax.bar(np.arange(4)+width*2, brown, width)\n",
    "ax.set_xticks(np.arange(4)+width/3)\n",
    "ax.set_xticklabels(('Bad Heart', 'Good Heart', 'High Risk 20', 'Low Risk 20'))\n",
    "ax.legend((no_bread[0], white_bread[0], brown_bread[0]), ('No Bread', 'Mainly White', 'Brown'))"
   ]
  },
  {
   "cell_type": "code",
   "execution_count": 18,
   "metadata": {
    "collapsed": true
   },
   "outputs": [
    {
     "name": "stdout",
     "output_type": "stream",
     "text": [
      "Low Fat                 28\nFull Fat                 6\nCholesterol Lowering     5\nNone                     4\nName: de_dairy, dtype: int64\nLow Fat                 41\nFull Fat                11\nNone                     3\nCholesterol Lowering     1\nName: de_dairy, dtype: int64\nLow Fat                 10\nFull Fat                 6\nCholesterol Lowering     3\nNone                     1\nName: de_dairy, dtype: int64\nLow Fat     15\nNone         3\nFull Fat     2\nName: de_dairy, dtype: int64\n"
     ]
    }
   ],
   "source": [
    "print bad_heart_diet['de_dairy'].value_counts()\n",
    "print good_heart_diet['de_dairy'].value_counts()\n",
    "print top_20_diet['de_dairy'].value_counts()\n",
    "print bottom_20_diet['de_dairy'].value_counts()"
   ]
  },
  {
   "cell_type": "code",
   "execution_count": 20,
   "metadata": {},
   "outputs": [
    {
     "data": {
      "text/plain": [
       "<matplotlib.legend.Legend at 0x97e46b0>"
      ]
     },
     "execution_count": 20,
     "metadata": {},
     "output_type": "execute_result"
    },
    {
     "data": {
      "image/png": "[encoded data removed]",
      "text/plain": [
       "<matplotlib.figure.Figure at 0x936a530>"
      ]
     },
     "metadata": {},
     "output_type": "display_data"
    }
   ],
   "source": [
    "none = [4, 3, 1, 3]\n",
    "full_fat = [6, 11, 6, 2]\n",
    "low_fat = [28, 41, 10, 15]\n",
    "chl_lowering = [5, 1, 3, 0]\n",
    "width = 0.20\n",
    "fig, ax = plt.subplots()\n",
    "no_milk = ax.bar(np.arange(4), none, width)\n",
    "full_milk = ax.bar(np.arange(4)+width, full_fat, width)\n",
    "low_fat_milk = ax.bar(np.arange(4)+width*2, low_fat, width)\n",
    "cholest_milk = ax.bar(np.arange(4)+width*3, chl_lowering, width)\n",
    "ax.set_xticks(np.arange(4)+width/4)\n",
    "ax.set_xticklabels(('Bad Heart', 'Good Heart', 'High Risk 20', 'Low Risk 20'))\n",
    "ax.legend((no_milk[0], full_milk[0], low_fat_milk[0], cholest_milk[0]), ('No Milk', 'Full Fat', 'Low Fat', 'Cholesterol Lowering'))"
   ]
  },
  {
   "cell_type": "code",
   "execution_count": 22,
   "metadata": {
    "collapsed": true
   },
   "outputs": [
    {
     "name": "stdout",
     "output_type": "stream",
     "text": [
      "Less than 3 times per week    29\n3 or more times per week      10\nVegetarian                     2\nNever                          2\nName: red_meat_frequency, dtype: int64\nLess than 3 times per week    46\n3 or more times per week       7\nVegetarian                     3\nName: red_meat_frequency, dtype: int64\nLess than 3 times per week    15\n3 or more times per week       3\nVegetarian                     2\nName: red_meat_frequency, dtype: int64\nLess than 3 times per week    16\n3 or more times per week       3\nVegetarian                     1\nName: red_meat_frequency, dtype: int64\n"
     ]
    }
   ],
   "source": [
    "print bad_heart_diet['red_meat_frequency'].value_counts()\n",
    "print good_heart_diet['red_meat_frequency'].value_counts()\n",
    "print top_20_diet['red_meat_frequency'].value_counts()\n",
    "print bottom_20_diet['red_meat_frequency'].value_counts()"
   ]
  },
  {
   "cell_type": "code",
   "execution_count": 23,
   "metadata": {},
   "outputs": [
    {
     "data": {
      "text/plain": [
       "<matplotlib.legend.Legend at 0x9965030>"
      ]
     },
     "execution_count": 23,
     "metadata": {},
     "output_type": "execute_result"
    },
    {
     "data": {
      "image/png": "[encoded data removed]",
      "text/plain": [
       "<matplotlib.figure.Figure at 0x9838e70>"
      ]
     },
     "metadata": {},
     "output_type": "display_data"
    }
   ],
   "source": [
    "never = [4, 3, 2, 1]\n",
    "less_than_3 = [29, 46, 15, 16]\n",
    "three_more = [10, 7, 3, 3]\n",
    "width = 0.30\n",
    "fig, ax = plt.subplots()\n",
    "never_meat = ax.bar(np.arange(4), never, width)\n",
    "less_three = ax.bar(np.arange(4)+width, less_than_3, width)\n",
    "three_more = ax.bar(np.arange(4)+width*2, three_more, width)\n",
    "ax.set_xticks(np.arange(4)+width/3)\n",
    "ax.set_xticklabels(('Bad Heart', 'Good Heart', 'High Risk 20', 'Low Risk 20'))\n",
    "ax.legend((never_meat[0], less_three[0], three_more[0]), ('Never', 'Less Than 3', '3 Or More'))"
   ]
  },
  {
   "cell_type": "code",
   "execution_count": 24,
   "metadata": {
    "collapsed": true
   },
   "outputs": [
    {
     "name": "stdout",
     "output_type": "stream",
     "text": [
      "Less than 3 times per week    36\n3 or more times per week       5\nNever                          2\nName: fish_frequency, dtype: int64\nLess than 3 times per week    45\nNever                          8\n3 or more times per week       3\nName: fish_frequency, dtype: int64\nLess than 3 times per week    15\n3 or more times per week       3\nNever                          2\nName: fish_frequency, dtype: int64\nLess than 3 times per week    16\nNever                          4\nName: fish_frequency, dtype: int64\n"
     ]
    }
   ],
   "source": [
    "print bad_heart_diet['fish_frequency'].value_counts()\n",
    "print good_heart_diet['fish_frequency'].value_counts()\n",
    "print top_20_diet['fish_frequency'].value_counts()\n",
    "print bottom_20_diet['fish_frequency'].value_counts()"
   ]
  },
  {
   "cell_type": "code",
   "execution_count": 25,
   "metadata": {},
   "outputs": [
    {
     "data": {
      "text/plain": [
       "<matplotlib.legend.Legend at 0x9b56630>"
      ]
     },
     "execution_count": 25,
     "metadata": {},
     "output_type": "execute_result"
    },
    {
     "data": {
      "image/png": "[encoded data removed]",
      "text/plain": [
       "<matplotlib.figure.Figure at 0x9965e10>"
      ]
     },
     "metadata": {},
     "output_type": "display_data"
    }
   ],
   "source": [
    "never_fish = [2, 8, 2, 4]\n",
    "less_than_3_fish = [36, 45, 15, 16]\n",
    "three_more_fish = [5, 3, 3, 0]\n",
    "width = 0.30\n",
    "fig, ax = plt.subplots()\n",
    "never_fish = ax.bar(np.arange(4), never_fish, width)\n",
    "less_than_3_fish = ax.bar(np.arange(4)+width, less_than_3_fish, width)\n",
    "three_more_fish = ax.bar(np.arange(4)+width*2, three_more_fish, width)\n",
    "ax.set_xticks(np.arange(4)+width/3)\n",
    "ax.set_xticklabels(('Bad Heart', 'Good Heart', 'High Risk 20', 'Low Risk 20'))\n",
    "ax.legend((never_fish[0], less_than_3_fish[0], three_more_fish[0]), ('Never', 'Less Than 3', '3 Or More'))"
   ]
  },
  {
   "cell_type": "code",
   "execution_count": 28,
   "metadata": {
    "collapsed": true
   },
   "outputs": [
    {
     "name": "stdout",
     "output_type": "stream",
     "text": [
      "Once or less per week    37\nMore than once a week     3\nNever                     3\nName: fast_food_frequency, dtype: int64\nOnce or less per week    39\nNever                    12\nMore than once a week     5\nName: fast_food_frequency, dtype: int64\nOnce or less per week    17\nNever                     2\nMore than once a week     1\nName: fast_food_frequency, dtype: int64\nOnce or less per week    13\nNever                     4\nMore than once a week     3\nName: fast_food_frequency, dtype: int64\n"
     ]
    }
   ],
   "source": [
    "print bad_heart_diet['fast_food_frequency'].value_counts()\n",
    "print good_heart_diet['fast_food_frequency'].value_counts()\n",
    "print top_20_diet['fast_food_frequency'].value_counts()\n",
    "print bottom_20_diet['fast_food_frequency'].value_counts()"
   ]
  },
  {
   "cell_type": "code",
   "execution_count": 29,
   "metadata": {},
   "outputs": [
    {
     "data": {
      "text/plain": [
       "<matplotlib.legend.Legend at 0x9cddc90>"
      ]
     },
     "execution_count": 29,
     "metadata": {},
     "output_type": "execute_result"
    },
    {
     "data": {
      "image/png": "[encoded data removed]",
      "text/plain": [
       "<matplotlib.figure.Figure at 0x936e490>"
      ]
     },
     "metadata": {},
     "output_type": "display_data"
    }
   ],
   "source": [
    "never_fast = [3, 12, 2, 4]\n",
    "once_fast = [37, 39, 17, 13]\n",
    "more_fast = [3, 5, 1, 3]\n",
    "width = 0.30\n",
    "fig, ax = plt.subplots()\n",
    "never_fast = ax.bar(np.arange(4), never_fast, width)\n",
    "once_fast = ax.bar(np.arange(4)+width, once_fast, width)\n",
    "more_fast = ax.bar(np.arange(4)+width*2, more_fast, width)\n",
    "ax.set_xticks(np.arange(4)+width/3)\n",
    "ax.set_xticklabels(('Bad Heart', 'Good Heart', 'High Risk 20', 'Low Risk 20'))\n",
    "ax.legend((never_fast[0], once_fast[0], more_fast[0]), ('Never', 'Less Than 3', '3 Or More'))"
   ]
  },
  {
   "cell_type": "code",
   "execution_count": 30,
   "metadata": {},
   "outputs": [],
   "source": [
    "bad_heart_ex = bad_heart_group.loc[:, ['exercise_days_per_week', 'exercise_minutes_per_day', 'de_exercise_outlook']]\n",
    "good_heart_ex = good_heart_group.loc[:, ['exercise_days_per_week', 'exercise_minutes_per_day', 'de_exercise_outlook']]\n",
    "top_20_ex = top_20_risk.loc[:, ['exercise_days_per_week', 'exercise_minutes_per_day', 'de_exercise_outlook']]\n",
    "bottom_20_ex = bottom_20_risk.loc[:, ['exercise_days_per_week', 'exercise_minutes_per_day', 'de_exercise_outlook']]"
   ]
  },
  {
   "cell_type": "code",
   "execution_count": 32,
   "metadata": {
    "collapsed": true
   },
   "outputs": [
    {
     "name": "stdout",
     "output_type": "stream",
     "text": [
      "moderate    18\nregular     11\nnone         9\nsome         5\nName: exercise_days_per_week, dtype: int64\nmoderate    28\nregular     11\nsome        11\nnone         6\nName: exercise_days_per_week, dtype: int64\nmoderate    7\nregular     5\nnone        5\nsome        3\nName: exercise_days_per_week, dtype: int64\nmoderate    10\nregular      6\nsome         3\nnone         1\nName: exercise_days_per_week, dtype: int64\n"
     ]
    }
   ],
   "source": [
    "print bad_heart_ex['exercise_days_per_week'].value_counts()\n",
    "print good_heart_ex['exercise_days_per_week'].value_counts()\n",
    "print top_20_ex['exercise_days_per_week'].value_counts()\n",
    "print bottom_20_ex['exercise_days_per_week'].value_counts()"
   ]
  },
  {
   "cell_type": "code",
   "execution_count": 34,
   "metadata": {},
   "outputs": [
    {
     "data": {
      "text/plain": [
       "<matplotlib.legend.Legend at 0x9e74750>"
      ]
     },
     "execution_count": 34,
     "metadata": {},
     "output_type": "execute_result"
    },
    {
     "data": {
      "image/png": "[encoded data removed]",
      "text/plain": [
       "<matplotlib.figure.Figure at 0x9cfe390>"
      ]
     },
     "metadata": {},
     "output_type": "display_data"
    }
   ],
   "source": [
    "none_ex = [9, 6, 5, 1]\n",
    "some_ex = [5, 11, 3, 3]\n",
    "regular_ex = [11, 11, 5, 6]\n",
    "moderate_ex = [18, 28, 7, 10]\n",
    "width = 0.20\n",
    "fig, ax = plt.subplots()\n",
    "no_ex = ax.bar(np.arange(4), none_ex, width)\n",
    "som_ex = ax.bar(np.arange(4)+width, some_ex, width)\n",
    "mod_ex = ax.bar(np.arange(4)+width*2, regular_ex, width)\n",
    "reg_ex = ax.bar(np.arange(4)+width*3, moderate_ex, width)\n",
    "ax.set_xticks(np.arange(4)+width/4)\n",
    "ax.set_xticklabels(('Bad Heart', 'Good Heart', 'High Risk 20', 'Low Risk 20'))\n",
    "ax.legend((no_ex[0], som_ex[0], mod_ex[0], reg_ex[0]), ('No Exercise', 'Some Exercise', 'Moderate Exercise', 'Regular Exercise'))"
   ]
  },
  {
   "cell_type": "code",
   "execution_count": 35,
   "metadata": {
    "collapsed": true
   },
   "outputs": [
    {
     "name": "stdout",
     "output_type": "stream",
     "text": [
      "recommended          20\nbelow_recommended    13\nnone                 10\nName: exercise_minutes_per_day, dtype: int64\nrecommended          35\nbelow_recommended    12\nnone                  9\nName: exercise_minutes_per_day, dtype: int64\nrecommended          9\nbelow_recommended    6\nnone                 5\nName: exercise_minutes_per_day, dtype: int64\nrecommended          17\nnone                  2\nbelow_recommended     1\nName: exercise_minutes_per_day, dtype: int64\n"
     ]
    }
   ],
   "source": [
    "print bad_heart_ex['exercise_minutes_per_day'].value_counts()\n",
    "print good_heart_ex['exercise_minutes_per_day'].value_counts()\n",
    "print top_20_ex['exercise_minutes_per_day'].value_counts()\n",
    "print bottom_20_ex['exercise_minutes_per_day'].value_counts()"
   ]
  },
  {
   "cell_type": "code",
   "execution_count": 36,
   "metadata": {},
   "outputs": [
    {
     "data": {
      "text/plain": [
       "<matplotlib.legend.Legend at 0x9fd9c10>"
      ]
     },
     "execution_count": 36,
     "metadata": {},
     "output_type": "execute_result"
    },
    {
     "data": {
      "image/png": "[encoded data removed]",
      "text/plain": [
       "<matplotlib.figure.Figure at 0x9e7f890>"
      ]
     },
     "metadata": {},
     "output_type": "display_data"
    }
   ],
   "source": [
    "no_mins = [10, 9, 5, 2]\n",
    "below_mins = [13, 12, 6, 1]\n",
    "rec_mins = [20, 35, 9, 17]\n",
    "width = 0.30\n",
    "fig, ax = plt.subplots()\n",
    "no_minutes = ax.bar(np.arange(4), no_mins, width)\n",
    "below_minutes = ax.bar(np.arange(4)+width, below_mins, width)\n",
    "recc_minutes = ax.bar(np.arange(4)+width*2, rec_mins, width)\n",
    "ax.set_xticks(np.arange(4)+width/3)\n",
    "ax.set_xticklabels(('Bad Heart', 'Good Heart', 'High Risk 20', 'Low Risk 20'))\n",
    "ax.legend((no_minutes[0], below_minutes[0], recc_minutes[0]), ('None', 'Below Recommended', 'Recommended'))"
   ]
  },
  {
   "cell_type": "code",
   "execution_count": 37,
   "metadata": {
    "collapsed": true
   },
   "outputs": [
    {
     "name": "stdout",
     "output_type": "stream",
     "text": [
      "Enjoy    23\nChore    20\nName: de_exercise_outlook, dtype: int64\nEnjoy    47\nChore     7\nName: de_exercise_outlook, dtype: int64\nEnjoy    11\nChore     9\nName: de_exercise_outlook, dtype: int64\nEnjoy    19\nChore     1\nName: de_exercise_outlook, dtype: int64\n"
     ]
    }
   ],
   "source": [
    "print bad_heart_ex['de_exercise_outlook'].value_counts()\n",
    "print good_heart_ex['de_exercise_outlook'].value_counts()\n",
    "print top_20_ex['de_exercise_outlook'].value_counts()\n",
    "print bottom_20_ex['de_exercise_outlook'].value_counts()"
   ]
  },
  {
   "cell_type": "code",
   "execution_count": 38,
   "metadata": {},
   "outputs": [
    {
     "data": {
      "text/plain": [
       "<matplotlib.legend.Legend at 0xa0b6f30>"
      ]
     },
     "execution_count": 38,
     "metadata": {},
     "output_type": "execute_result"
    },
    {
     "data": {
      "image/png": "[encoded data removed]",
      "text/plain": [
       "<matplotlib.figure.Figure at 0x9efde10>"
      ]
     },
     "metadata": {},
     "output_type": "display_data"
    }
   ],
   "source": [
    "enjoy = [23, 47, 11, 19]\n",
    "chore = [20, 7, 9, 1]\n",
    "width = 0.35\n",
    "fig, ax = plt.subplots()\n",
    "enjoy_rep = ax.bar(np.arange(4), enjoy, width)\n",
    "chore_rep = ax.bar(np.arange(4)+width, chore, width)\n",
    "ax.set_xticks(np.arange(4)+width/2)\n",
    "ax.set_xticklabels(('Bad Heart', 'Good Heart', 'High Risk 20', 'Low Risk 20'))\n",
    "ax.legend((enjoy_rep[0], chore_rep[0]), ('Enjoy', 'Chore'))"
   ]
  },
  {
   "cell_type": "code",
   "execution_count": 39,
   "metadata": {},
   "outputs": [],
   "source": [
    "bad_heart_smoke = bad_heart_group.loc[:, ['smoker']]\n",
    "good_heart_smoke = good_heart_group.loc[:, ['smoker']]\n",
    "top_20_smoke = top_20_risk.loc[:, ['smoker']]\n",
    "bottom_20_smoke = bottom_20_risk.loc[:, ['smoker']]"
   ]
  },
  {
   "cell_type": "code",
   "execution_count": 40,
   "metadata": {
    "collapsed": true
   },
   "outputs": [
    {
     "name": "stdout",
     "output_type": "stream",
     "text": [
      "No     37\nYes     6\nName: smoker, dtype: int64\nNo    56\nName: smoker, dtype: int64\nNo     18\nYes     2\nName: smoker, dtype: int64\nNo    20\nName: smoker, dtype: int64\n"
     ]
    }
   ],
   "source": [
    "print bad_heart_smoke['smoker'].value_counts()\n",
    "print good_heart_smoke['smoker'].value_counts()\n",
    "print top_20_smoke['smoker'].value_counts()\n",
    "print bottom_20_smoke['smoker'].value_counts()"
   ]
  },
  {
   "cell_type": "code",
   "execution_count": 41,
   "metadata": {},
   "outputs": [
    {
     "data": {
      "text/plain": [
       "<matplotlib.legend.Legend at 0xa24edb0>"
      ]
     },
     "execution_count": 41,
     "metadata": {},
     "output_type": "execute_result"
    },
    {
     "data": {
      "image/png": "[encoded data removed]",
      "text/plain": [
       "<matplotlib.figure.Figure at 0xa0cb870>"
      ]
     },
     "metadata": {},
     "output_type": "display_data"
    }
   ],
   "source": [
    "smoke = [6, 0, 2, 0]\n",
    "no_smoke = [37, 56, 18, 20]\n",
    "width = 0.35\n",
    "fig, ax = plt.subplots()\n",
    "smoker = ax.bar(np.arange(4), smoke, width)\n",
    "non_smoker = ax.bar(np.arange(4)+width, no_smoke, width)\n",
    "ax.set_xticks(np.arange(4)+width/2)\n",
    "ax.set_xticklabels(('Bad Heart', 'Good Heart', 'High Risk 20', 'Low Risk 20'))\n",
    "ax.legend((smoker[0], non_smoker[0]), ('Smoke', 'Non-Smoker'))"
   ]
  },
  {
   "cell_type": "code",
   "execution_count": 44,
   "metadata": {},
   "outputs": [],
   "source": [
    "mthl_cols = ['drive_to_work', 'commute_drive_time', 'stress_frequency', 'trouble_sleeping_frequency', 'excessive_worry_frequency', 'negative_thinking_frequency', 'feeling_isolated_frequency', 'mtlh_feel_happy', 'mtlh_concentration', 'mtlh_sleep_worry', 'mtlh_useful', 'mtlh_decisive', 'mtlh_constant_strain', 'mtlh_overcome_issues', 'mtlh_enjoy_days', 'mtlh_face_problems', 'mtlh_feel_unhappy', 'mtlh_losing_confidence', 'mtlh_feel_worthless',]\n",
    "bad_heart_mtlh = bad_heart_group.loc[:, mthl_cols]\n",
    "good_heart_mtlh = good_heart_group.loc[:, mthl_cols]\n",
    "top_20_mtlh = top_20_risk.loc[:, mthl_cols]\n",
    "bottom_20_mtlh = bottom_20_risk.loc[:, mthl_cols]"
   ]
  },
  {
   "cell_type": "code",
   "execution_count": 45,
   "metadata": {
    "collapsed": true
   },
   "outputs": [
    {
     "name": "stdout",
     "output_type": "stream",
     "text": [
      "Sometimes    33\nRegularly     7\nNever         3\nName: stress_frequency, dtype: int64\nSometimes    48\nRegularly     6\nNever         2\nName: stress_frequency, dtype: int64\nSometimes    14\nRegularly     4\nNever         2\nName: stress_frequency, dtype: int64\nSometimes    19\nRegularly     1\nName: stress_frequency, dtype: int64\n"
     ]
    }
   ],
   "source": [
    "print bad_heart_mtlh['stress_frequency'].value_counts()\n",
    "print good_heart_mtlh['stress_frequency'].value_counts()\n",
    "print top_20_mtlh['stress_frequency'].value_counts()\n",
    "print bottom_20_mtlh['stress_frequency'].value_counts()"
   ]
  },
  {
   "cell_type": "code",
   "execution_count": 46,
   "metadata": {},
   "outputs": [
    {
     "data": {
      "text/plain": [
       "<matplotlib.legend.Legend at 0xa497e50>"
      ]
     },
     "execution_count": 46,
     "metadata": {},
     "output_type": "execute_result"
    },
    {
     "data": {
      "image/png": "[encoded data removed]",
      "text/plain": [
       "<matplotlib.figure.Figure at 0x9ffaf10>"
      ]
     },
     "metadata": {},
     "output_type": "display_data"
    }
   ],
   "source": [
    "som_stress = [33, 48, 14, 19]\n",
    "reg_stress = [7, 6, 4, 1]\n",
    "nev_stress = [3, 2, 2, 0]\n",
    "width = 0.30\n",
    "fig, ax = plt.subplots()\n",
    "some_stress = ax.bar(np.arange(4), som_stress, width)\n",
    "regular_stress = ax.bar(np.arange(4)+width, reg_stress, width)\n",
    "never_stress = ax.bar(np.arange(4)+width*2, nev_stress, width)\n",
    "ax.set_xticks(np.arange(4)+width/3)\n",
    "ax.set_xticklabels(('Bad Heart', 'Good Heart', 'High Risk 20', 'Low Risk 20'))\n",
    "ax.legend((some_stress[0], regular_stress[0], never_stress[0]), ('Sometimes', 'Regular', 'Never'))"
   ]
  },
  {
   "cell_type": "code",
   "execution_count": 47,
   "metadata": {
    "collapsed": true
   },
   "outputs": [
    {
     "name": "stdout",
     "output_type": "stream",
     "text": [
      "Sometimes    25\nRegularly    11\nNever         7\nName: trouble_sleeping_frequency, dtype: int64\nSometimes    33\nNever        19\nRegularly     3\nName: trouble_sleeping_frequency, dtype: int64\nSometimes    12\nRegularly     6\nNever         2\nName: trouble_sleeping_frequency, dtype: int64\nSometimes    11\nNever         8\nName: trouble_sleeping_frequency, dtype: int64\n"
     ]
    }
   ],
   "source": [
    "print bad_heart_mtlh['trouble_sleeping_frequency'].value_counts()\n",
    "print good_heart_mtlh['trouble_sleeping_frequency'].value_counts()\n",
    "print top_20_mtlh['trouble_sleeping_frequency'].value_counts()\n",
    "print bottom_20_mtlh['trouble_sleeping_frequency'].value_counts()"
   ]
  },
  {
   "cell_type": "code",
   "execution_count": 48,
   "metadata": {},
   "outputs": [
    {
     "data": {
      "text/plain": [
       "<matplotlib.legend.Legend at 0xa4ae3d0>"
      ]
     },
     "execution_count": 48,
     "metadata": {},
     "output_type": "execute_result"
    },
    {
     "data": {
      "image/png": "[encoded data removed]",
      "text/plain": [
       "<matplotlib.figure.Figure at 0xa396fd0>"
      ]
     },
     "metadata": {},
     "output_type": "display_data"
    }
   ],
   "source": [
    "som_sleep_trouble = [25, 33, 12, 11]\n",
    "reg_sleep_trouble = [11, 3, 6, 0]\n",
    "nev_sleep_trouble = [7, 19, 2, 8]\n",
    "width = 0.30\n",
    "fig, ax = plt.subplots()\n",
    "never_sleep_trouble = ax.bar(np.arange(4), nev_sleep_trouble, width)\n",
    "some_sleep_trouble = ax.bar(np.arange(4)+width, som_sleep_trouble, width)\n",
    "regular_sleep_trouble = ax.bar(np.arange(4)+width*2, reg_sleep_trouble, width)\n",
    "ax.set_xticks(np.arange(4)+width/3)\n",
    "ax.set_xticklabels(('Bad Heart', 'Good Heart', 'High Risk 20', 'Low Risk 20'))\n",
    "ax.legend((never_sleep_trouble[0], some_sleep_trouble[0], regular_sleep_trouble[0]), ('Never', 'Sometimes', 'Regular'))"
   ]
  },
  {
   "cell_type": "code",
   "execution_count": 49,
   "metadata": {
    "collapsed": true
   },
   "outputs": [
    {
     "name": "stdout",
     "output_type": "stream",
     "text": [
      "Same as usual      37\nLess than usual     6\nName: mtlh_feel_happy, dtype: int64\nSame as usual         48\nLess than usual        4\nMore so than usual     4\nName: mtlh_feel_happy, dtype: int64\nSame as usual      17\nLess than usual     3\nName: mtlh_feel_happy, dtype: int64\nSame as usual         16\nLess than usual        2\nMore so than usual     2\nName: mtlh_feel_happy, dtype: int64\n"
     ]
    }
   ],
   "source": [
    "print bad_heart_mtlh['mtlh_feel_happy'].value_counts()\n",
    "print good_heart_mtlh['mtlh_feel_happy'].value_counts()\n",
    "print top_20_mtlh['mtlh_feel_happy'].value_counts()\n",
    "print bottom_20_mtlh['mtlh_feel_happy'].value_counts()"
   ]
  },
  {
   "cell_type": "code",
   "execution_count": 50,
   "metadata": {},
   "outputs": [
    {
     "data": {
      "text/plain": [
       "<matplotlib.legend.Legend at 0xa5ccef0>"
      ]
     },
     "execution_count": 50,
     "metadata": {},
     "output_type": "execute_result"
    },
    {
     "data": {
      "image/png": "[encoded data removed]",
      "text/plain": [
       "<matplotlib.figure.Figure at 0xa465030>"
      ]
     },
     "metadata": {},
     "output_type": "display_data"
    }
   ],
   "source": [
    "less_happy = [6, 4, 3, 2]\n",
    "more_happy = [0, 4, 0, 2]\n",
    "same_happy = [37, 48, 17, 16]\n",
    "width = 0.30\n",
    "fig, ax = plt.subplots()\n",
    "less_usual = ax.bar(np.arange(4), less_happy, width)\n",
    "same_usual = ax.bar(np.arange(4)+width, same_happy, width)\n",
    "more_usual = ax.bar(np.arange(4)+width*2, more_happy, width)\n",
    "ax.set_xticks(np.arange(4)+width/3)\n",
    "ax.set_xticklabels(('Bad Heart', 'Good Heart', 'High Risk 20', 'Low Risk 20'))\n",
    "ax.legend((less_usual[0], same_usual[0], more_usual[0]), ('Less Than Usual', 'Same as Usual', 'More Than Usual'))"
   ]
  },
  {
   "cell_type": "code",
   "execution_count": 51,
   "metadata": {
    "collapsed": true
   },
   "outputs": [
    {
     "name": "stdout",
     "output_type": "stream",
     "text": [
      "No more than usual        22\nNot at all                15\nRather more than usual     6\nName: mtlh_feel_unhappy, dtype: int64\nNo more than usual        29\nNot at all                20\nRather more than usual     4\nMuch more than usual       3\nName: mtlh_feel_unhappy, dtype: int64\nNo more than usual        8\nNot at all                8\nRather more than usual    4\nName: mtlh_feel_unhappy, dtype: int64\nNo more than usual        9\nNot at all                8\nRather more than usual    3\nName: mtlh_feel_unhappy, dtype: int64\n"
     ]
    }
   ],
   "source": [
    "print bad_heart_mtlh['mtlh_feel_unhappy'].value_counts()\n",
    "print good_heart_mtlh['mtlh_feel_unhappy'].value_counts()\n",
    "print top_20_mtlh['mtlh_feel_unhappy'].value_counts()\n",
    "print bottom_20_mtlh['mtlh_feel_unhappy'].value_counts()"
   ]
  },
  {
   "cell_type": "code",
   "execution_count": 52,
   "metadata": {},
   "outputs": [
    {
     "data": {
      "text/plain": [
       "<matplotlib.legend.Legend at 0xa743410>"
      ]
     },
     "execution_count": 52,
     "metadata": {},
     "output_type": "execute_result"
    },
    {
     "data": {
      "image/png": "[encoded data removed]",
      "text/plain": [
       "<matplotlib.figure.Figure at 0xa5e3e30>"
      ]
     },
     "metadata": {},
     "output_type": "display_data"
    }
   ],
   "source": [
    "no_more_un = [22, 29, 8, 9]\n",
    "none_un = [15, 20, 8, 8]\n",
    "rather_un = [6, 4, 4, 3]\n",
    "much_un = [0, 3, 0, 0]\n",
    "width = 0.20\n",
    "fig, ax = plt.subplots()\n",
    "no_more = ax.bar(np.arange(4), no_more_un, width)\n",
    "not_un = ax.bar(np.arange(4)+width, none_un, width)\n",
    "rat_un = ax.bar(np.arange(4)+width*2, rather_un, width)\n",
    "mu_un = ax.bar(np.arange(4)+width*3, much_un, width)\n",
    "ax.set_xticks(np.arange(4)+width/4)\n",
    "ax.set_xticklabels(('Bad Heart', 'Good Heart', 'High Risk 20', 'Low Risk 20'))\n",
    "ax.legend((no_more[0], not_un[0], rat_un[0], mu_un[0]), ('Not at All', 'Same as Usual', 'Rather More', 'Much More'))"
   ]
  },
  {
   "cell_type": "code",
   "execution_count": 53,
   "metadata": {
    "collapsed": true
   },
   "outputs": [
    {
     "name": "stdout",
     "output_type": "stream",
     "text": [
      "Same as usual      36\nLess than usual     7\nName: mtlh_enjoy_days, dtype: int64\nSame as usual         42\nLess than usual       10\nMore so than usual     4\nName: mtlh_enjoy_days, dtype: int64\nSame as usual      16\nLess than usual     4\nName: mtlh_enjoy_days, dtype: int64\nSame as usual         17\nLess than usual        2\nMore so than usual     1\nName: mtlh_enjoy_days, dtype: int64\n"
     ]
    }
   ],
   "source": [
    "print bad_heart_mtlh['mtlh_enjoy_days'].value_counts()\n",
    "print good_heart_mtlh['mtlh_enjoy_days'].value_counts()\n",
    "print top_20_mtlh['mtlh_enjoy_days'].value_counts()\n",
    "print bottom_20_mtlh['mtlh_enjoy_days'].value_counts()"
   ]
  },
  {
   "cell_type": "code",
   "execution_count": 54,
   "metadata": {
    "collapsed": true
   },
   "outputs": [
    {
     "name": "stdout",
     "output_type": "stream",
     "text": [
      "Not at all                22\nNo more than usual        15\nRather more than usual     6\nName: mtlh_losing_confidence, dtype: int64\nNot at all                26\nNo more than usual        24\nRather more than usual     6\nName: mtlh_losing_confidence, dtype: int64\nNot at all                11\nNo more than usual         7\nRather more than usual     2\nName: mtlh_losing_confidence, dtype: int64\nNo more than usual        10\nNot at all                 9\nRather more than usual     1\nName: mtlh_losing_confidence, dtype: int64\n"
     ]
    }
   ],
   "source": [
    "print bad_heart_mtlh['mtlh_losing_confidence'].value_counts()\n",
    "print good_heart_mtlh['mtlh_losing_confidence'].value_counts()\n",
    "print top_20_mtlh['mtlh_losing_confidence'].value_counts()\n",
    "print bottom_20_mtlh['mtlh_losing_confidence'].value_counts()"
   ]
  },
  {
   "cell_type": "code",
   "execution_count": 61,
   "metadata": {},
   "outputs": [
    {
     "data": {
      "text/plain": [
       "Text(0.5,0,u'Relative Risk Score')"
      ]
     },
     "execution_count": 61,
     "metadata": {},
     "output_type": "execute_result"
    },
    {
     "data": {
      "image/png": "[encoded data removed]",
      "text/plain": [
       "<matplotlib.figure.Figure at 0xb393e50>"
      ]
     },
     "metadata": {},
     "output_type": "display_data"
    }
   ],
   "source": [
    "binwidth = 0.2\n",
    "plt.hist(med_df['relative_risk_score'], bins=np.arange(min(med_df['relative_risk_score']), max(med_df['relative_risk_score']) + binwidth, binwidth))\n",
    "plt.xlabel('Relative Risk Score')"
   ]
  },
  {
   "cell_type": "code",
   "execution_count": null,
   "metadata": {},
   "outputs": [],
   "source": []
  }
 ],
 "metadata": {
  "kernelspec": {
   "display_name": "Python 2",
   "language": "python",
   "name": "python2"
  },
  "language_info": {
   "codemirror_mode": {
    "name": "ipython",
    "version": 2
   },
   "file_extension": ".py",
   "mimetype": "text/x-python",
   "name": "python",
   "nbconvert_exporter": "python",
   "pygments_lexer": "ipython2",
   "version": "2.7.11"
  }
 },
 "nbformat": 4,
 "nbformat_minor": 1
}
