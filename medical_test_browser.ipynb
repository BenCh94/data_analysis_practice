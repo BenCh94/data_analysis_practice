{
 "cells": [
  {
   "cell_type": "code",
   "execution_count": 2,
   "metadata": {
    "scrolled": true,
    "collapsed": true
   },
   "outputs": [
    {
     "name": "stdout",
     "output_type": "stream",
     "text": [
      "  gender  birth_date  age_at_medical  systolic_value  diastolic_value  \\\n0   male    3/2/1971              45             130               88   \n1   male   9/13/1981              35             110               70   \n2   male  12/27/1976              40             130               88   \n3   male  10/12/1975              41             129              100   \n4   male   7/20/1970              46             118               78   \n\n   bmi_value  qrisk2_score healthy_qrisk2_score  relative_risk_score  \\\n0       22.5      6.126438             2.383897             2.569926   \n1       24.8      0.493301             0.622588             0.792339   \n2       30.4      2.398695             1.303095             1.840768   \n3       33.8      3.385506             1.483843             2.281580   \n4       28.0      2.674966             2.657748             1.006478   \n\n   heart_age       ...       flu_received_already flu_feeling_unwell  \\\n0       55.0       ...                        NaN                NaN   \n1       34.0       ...                        NaN                NaN   \n2       46.0       ...                        NaN                NaN   \n3       49.0       ...                        NaN                NaN   \n4       47.0       ...                        NaN                NaN   \n\n  flu_allergic_reaction flu_severe_allergies flu_immunosuppressed  \\\n0                   NaN                  NaN                  NaN   \n1                   NaN                  NaN                  NaN   \n2                   NaN                  NaN                  NaN   \n3                   NaN                  NaN                  NaN   \n4                   NaN                  NaN                  NaN   \n\n  flu_neuro_disability flu_nhs_free_vacine_aware flu_nhs_risk_group  \\\n0                  NaN                       NaN                NaN   \n1                  NaN                       NaN                NaN   \n2                  NaN                       NaN                NaN   \n3                  NaN                       NaN                NaN   \n4                  NaN                       NaN                NaN   \n\n  fluvaccine breast_referral  \n0        NaN             NaN  \n1        NaN             NaN  \n2        NaN             NaN  \n3        NaN             NaN  \n4        NaN             NaN  \n\n[5 rows x 252 columns]\n"
     ]
    }
   ],
   "source": [
    "import pandas as pd\n",
    "import numpy as np\n",
    "import matplotlib.pyplot as plt\n",
    "%matplotlib inline\n",
    "\n",
    "med_df = pd.read_csv('full_health_medicals.csv.csv')\n",
    "print med_df.head()"
   ]
  },
  {
   "cell_type": "code",
   "execution_count": 46,
   "metadata": {},
   "outputs": [
    {
     "name": "stdout",
     "output_type": "stream",
     "text": [
      "Mean Age:\n",
      "43.5870646766\n"
     ]
    }
   ],
   "source": [
    "print \"Mean Age:\"\n",
    "print np.mean(med_df['age_at_medical'])"
   ]
  },
  {
   "cell_type": "code",
   "execution_count": 47,
   "metadata": {},
   "outputs": [],
   "source": [
    "def heart_age_diff(df):\n",
    "    return np.mean(df['age_at_medical'] - df['heart_age'])\n",
    "\n",
    "def age_diff(df):\n",
    "    return df['age_at_medical'] - df['heart_age']"
   ]
  },
  {
   "cell_type": "markdown",
   "metadata": {},
   "source": [
    "## Checking average difference between actual age and heart age for various groups"
   ]
  },
  {
   "cell_type": "code",
   "execution_count": 48,
   "metadata": {},
   "outputs": [
    {
     "data": {
      "text/html": [
       "<div>\n",
       "<style>\n",
       "    .dataframe thead tr:only-child th {\n",
       "        text-align: right;\n",
       "    }\n",
       "\n",
       "    .dataframe thead th {\n",
       "        text-align: left;\n",
       "    }\n",
       "\n",
       "    .dataframe tbody tr th {\n",
       "        vertical-align: top;\n",
       "    }\n",
       "</style>\n",
       "<table border=\"1\" class=\"dataframe\">\n",
       "  <thead>\n",
       "    <tr style=\"text-align: right;\">\n",
       "      <th></th>\n",
       "      <th>0</th>\n",
       "      <th>1</th>\n",
       "      <th>2</th>\n",
       "      <th>3</th>\n",
       "      <th>4</th>\n",
       "    </tr>\n",
       "  </thead>\n",
       "  <tbody>\n",
       "    <tr>\n",
       "      <th>0</th>\n",
       "      <td>Blood_Pressure</td>\n",
       "      <td>Choletsrol</td>\n",
       "      <td>Non_Smokers</td>\n",
       "      <td>Smokers</td>\n",
       "      <td>Above_Average_BMI</td>\n",
       "    </tr>\n",
       "    <tr>\n",
       "      <th>1</th>\n",
       "      <td>-8.3</td>\n",
       "      <td>-6.5</td>\n",
       "      <td>-2.2957</td>\n",
       "      <td>-5.18182</td>\n",
       "      <td>-5.01176</td>\n",
       "    </tr>\n",
       "  </tbody>\n",
       "</table>\n",
       "</div>"
      ],
      "text/plain": [
       "                0           1            2        3                  4\n",
       "0  Blood_Pressure  Choletsrol  Non_Smokers  Smokers  Above_Average_BMI\n",
       "1            -8.3        -6.5      -2.2957 -5.18182           -5.01176"
      ]
     },
     "execution_count": 48,
     "metadata": {},
     "output_type": "execute_result"
    }
   ],
   "source": [
    "smokers = med_df[med_df['smoker'] == 'Yes']\n",
    "non_smokers = med_df[med_df['smoker'] == 'No']\n",
    "above_average_bmi = med_df[med_df['bmi_value'] > np.mean(med_df['bmi_value'])]\n",
    "red_cholestrol = med_df[med_df['Cholesterol'] == 'red']\n",
    "red_bp = med_df[med_df['Blood Pressure'] == 'red']\n",
    "\n",
    "metrics = dict(Smokers=heart_age_diff(smokers), Non_Smokers=heart_age_diff(non_smokers), Above_Average_BMI=heart_age_diff(above_average_bmi), Choletsrol=heart_age_diff(red_cholestrol), Blood_Pressure=heart_age_diff(red_bp))\n",
    "pd.DataFrame(metrics.items()).T"
   ]
  },
  {
   "cell_type": "code",
   "execution_count": 1,
   "metadata": {},
   "outputs": [
    {
     "ename": "NameError",
     "evalue": "name 'plt' is not defined",
     "traceback": [
      "\u001b[0;31m\u001b[0m",
      "\u001b[0;31mNameError\u001b[0mTraceback (most recent call last)",
      "\u001b[0;32m<ipython-input-1-aecfb23cc8a0>\u001b[0m in \u001b[0;36m<module>\u001b[0;34m()\u001b[0m\n\u001b[0;32m----> 1\u001b[0;31m \u001b[0mplt\u001b[0m\u001b[0;34m.\u001b[0m\u001b[0mhist\u001b[0m\u001b[0;34m(\u001b[0m\u001b[0;34m(\u001b[0m\u001b[0mage_diff\u001b[0m\u001b[0;34m(\u001b[0m\u001b[0msmokers\u001b[0m\u001b[0;34m)\u001b[0m\u001b[0;34m,\u001b[0m\u001b[0mage_diff\u001b[0m\u001b[0;34m(\u001b[0m\u001b[0mnon_smokers\u001b[0m\u001b[0;34m)\u001b[0m\u001b[0;34m,\u001b[0m\u001b[0mage_diff\u001b[0m\u001b[0;34m(\u001b[0m\u001b[0mabove_average_bmi\u001b[0m\u001b[0;34m)\u001b[0m\u001b[0;34m,\u001b[0m\u001b[0mage_diff\u001b[0m\u001b[0;34m(\u001b[0m\u001b[0mred_cholestrol\u001b[0m\u001b[0;34m)\u001b[0m\u001b[0;34m,\u001b[0m\u001b[0mage_diff\u001b[0m\u001b[0;34m(\u001b[0m\u001b[0mred_bp\u001b[0m\u001b[0;34m)\u001b[0m\u001b[0;34m)\u001b[0m\u001b[0;34m,\u001b[0m \u001b[0mrange\u001b[0m\u001b[0;34m=\u001b[0m\u001b[0;34m(\u001b[0m\u001b[0;34m-\u001b[0m\u001b[0;36m20\u001b[0m\u001b[0;34m,\u001b[0m\u001b[0;36m10\u001b[0m\u001b[0;34m)\u001b[0m\u001b[0;34m)\u001b[0m\u001b[0;34m\u001b[0m\u001b[0m\n\u001b[0m\u001b[1;32m      2\u001b[0m \u001b[0mplt\u001b[0m\u001b[0;34m.\u001b[0m\u001b[0mlegend\u001b[0m\u001b[0;34m(\u001b[0m\u001b[0mlabels\u001b[0m\u001b[0;34m=\u001b[0m\u001b[0mmetrics\u001b[0m\u001b[0;34m.\u001b[0m\u001b[0mkeys\u001b[0m\u001b[0;34m(\u001b[0m\u001b[0;34m)\u001b[0m\u001b[0;34m)\u001b[0m\u001b[0;34m\u001b[0m\u001b[0m\n\u001b[1;32m      3\u001b[0m \u001b[0mplt\u001b[0m\u001b[0;34m.\u001b[0m\u001b[0mshow\u001b[0m\u001b[0;34m(\u001b[0m\u001b[0;34m)\u001b[0m\u001b[0;34m\u001b[0m\u001b[0m\n",
      "\u001b[0;31mNameError\u001b[0m: name 'plt' is not defined"
     ],
     "output_type": "error"
    }
   ],
   "source": [
    "plt.hist((age_diff(smokers),age_diff(non_smokers),age_diff(above_average_bmi),age_diff(red_cholestrol),age_diff(red_bp)), range=(-20,10))\n",
    "plt.legend(labels=metrics.keys())\n",
    "plt.show()"
   ]
  },
  {
   "cell_type": "code",
   "execution_count": 50,
   "metadata": {
    "scrolled": true
   },
   "outputs": [
    {
     "name": "stdout",
     "output_type": "stream",
     "text": [
      "12.24388534\n"
     ]
    },
    {
     "data": {
      "image/png": "[encoded data removed]",
      "text/plain": [
       "<matplotlib.figure.Figure at 0x8e58930>"
      ]
     },
     "metadata": {},
     "output_type": "display_data"
    }
   ],
   "source": [
    "risk_score = med_df['relative_risk_score']\n",
    "print risk_score.max()\n",
    "plt.hist(risk_score, range=(risk_score.min(), risk_score.max()))\n",
    "plt.show()"
   ]
  },
  {
   "cell_type": "code",
   "execution_count": 61,
   "metadata": {},
   "outputs": [
    {
     "data": {
      "image/png": "[encoded data removed]",
      "text/plain": [
       "<matplotlib.figure.Figure at 0xb501eb0>"
      ]
     },
     "metadata": {},
     "output_type": "display_data"
    }
   ],
   "source": [
    "plt.scatter(med_df['bmi_value'], med_df['relative_risk_score'])\n",
    "plt.show()"
   ]
  }
 ],
 "metadata": {
  "kernelspec": {
   "display_name": "Python 2",
   "language": "python",
   "name": "python2"
  },
  "language_info": {
   "codemirror_mode": {
    "name": "ipython",
    "version": 2
   },
   "file_extension": ".py",
   "mimetype": "text/x-python",
   "name": "python",
   "nbconvert_exporter": "python",
   "pygments_lexer": "ipython2",
   "version": "2.7.11"
  }
 },
 "nbformat": 4,
 "nbformat_minor": 1
}
